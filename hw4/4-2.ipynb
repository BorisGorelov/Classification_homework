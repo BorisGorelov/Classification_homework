{
 "nbformat": 4,
 "nbformat_minor": 2,
 "metadata": {
  "language_info": {
   "name": "python",
   "codemirror_mode": {
    "name": "ipython",
    "version": 3
   },
   "version": "3.6.9"
  },
  "orig_nbformat": 2,
  "file_extension": ".py",
  "mimetype": "text/x-python",
  "name": "python",
  "npconvert_exporter": "python",
  "pygments_lexer": "ipython3",
  "version": 3
 },
 "cells": [
  {
   "cell_type": "markdown",
   "execution_count": null,
   "metadata": {},
   "outputs": [],
   "source": [
    "### Часть 2\n",
    "Используя скаченные данные и `Pandas` (или `PySpark`) посчитайте:\n",
    "- явку (%) по всем ТИК, результат отсортировать по убыванию\n",
    "- выберите произвольного кандидата и найдите тот избиратльный участок, на котором он получил наибольший результат  (%, учитывать участки на которых проголосовало больше 100 человек)\n",
    "- найдите ТИК, где разница между УИК с наибольшей явкой и наименьшей максимальна\n",
    "- посчитайте дисперсию по явке для каждого ТИК (учитывать УИК)\n",
    "- для каждого кандидата посчитайте таблицу: результат (%, округленный до целого) - количество УИК, на которых кандидат получил данный результат\n",
    "- визуализируйте отношение - явка на УИК $\\rightarrow$ результат кандидата. "
   ]
  },
  {
   "cell_type": "code",
   "execution_count": 58,
   "metadata": {},
   "outputs": [
    {
     "data": {
      "text/html": "<div>\n<style scoped>\n    .dataframe tbody tr th:only-of-type {\n        vertical-align: middle;\n    }\n\n    .dataframe tbody tr th {\n        vertical-align: top;\n    }\n\n    .dataframe thead th {\n        text-align: right;\n    }\n</style>\n<table border=\"1\" class=\"dataframe\">\n  <thead>\n    <tr style=\"text-align: right;\">\n      <th></th>\n      <th>ТИК</th>\n      <th>УИК</th>\n      <th>Число избирателей, внесенных в список избирателей на момент окончания голосования</th>\n      <th>Число избирательных бюллетеней, полученных участковой избирательной комиссией</th>\n      <th>Число избирательных бюллетеней, выданных избирателям в помещении для голосования в день голосования</th>\n      <th>Число избирательных бюллетеней, выданных избирателям, проголосовавшим вне помещения для голосования</th>\n      <th>Число погашенных избирательных бюллетеней</th>\n      <th>Число избирательных бюллетеней, содержащихся в переносных ящиках для голосования</th>\n      <th>Число избирательных бюллетеней, содержащихся в стационарных ящиках для голосования</th>\n      <th>Число недействительных избирательных бюллетеней</th>\n      <th>Число действительных избирательных бюллетеней</th>\n      <th>Число утраченных избирательных бюллетеней</th>\n      <th>Число избирательных бюллетеней, не учтенных при получении</th>\n      <th>Амосов Михаил Иванович</th>\n      <th>Беглов Александр Дмитриевич</th>\n      <th>Тихонова Надежда Геннадьевна</th>\n    </tr>\n  </thead>\n  <tbody>\n    <tr>\n      <th>0</th>\n      <td>1</td>\n      <td>1</td>\n      <td>1803</td>\n      <td>1200</td>\n      <td>587</td>\n      <td>11</td>\n      <td>602</td>\n      <td>11</td>\n      <td>587</td>\n      <td>23</td>\n      <td>575</td>\n      <td>0</td>\n      <td>0</td>\n      <td>110</td>\n      <td>345</td>\n      <td>120</td>\n    </tr>\n    <tr>\n      <th>1</th>\n      <td>1</td>\n      <td>2</td>\n      <td>1466</td>\n      <td>1100</td>\n      <td>433</td>\n      <td>14</td>\n      <td>653</td>\n      <td>14</td>\n      <td>430</td>\n      <td>19</td>\n      <td>425</td>\n      <td>0</td>\n      <td>0</td>\n      <td>53</td>\n      <td>326</td>\n      <td>46</td>\n    </tr>\n    <tr>\n      <th>2</th>\n      <td>1</td>\n      <td>3</td>\n      <td>2092</td>\n      <td>1600</td>\n      <td>576</td>\n      <td>22</td>\n      <td>1002</td>\n      <td>22</td>\n      <td>576</td>\n      <td>15</td>\n      <td>583</td>\n      <td>0</td>\n      <td>0</td>\n      <td>155</td>\n      <td>332</td>\n      <td>96</td>\n    </tr>\n    <tr>\n      <th>3</th>\n      <td>1</td>\n      <td>4</td>\n      <td>1056</td>\n      <td>1000</td>\n      <td>318</td>\n      <td>4</td>\n      <td>678</td>\n      <td>4</td>\n      <td>318</td>\n      <td>13</td>\n      <td>309</td>\n      <td>0</td>\n      <td>0</td>\n      <td>67</td>\n      <td>171</td>\n      <td>71</td>\n    </tr>\n    <tr>\n      <th>4</th>\n      <td>1</td>\n      <td>5</td>\n      <td>1827</td>\n      <td>1400</td>\n      <td>495</td>\n      <td>8</td>\n      <td>897</td>\n      <td>8</td>\n      <td>493</td>\n      <td>16</td>\n      <td>485</td>\n      <td>0</td>\n      <td>0</td>\n      <td>137</td>\n      <td>266</td>\n      <td>82</td>\n    </tr>\n  </tbody>\n</table>\n</div>",
      "text/plain": "   ТИК  УИК  \\\n0    1    1   \n1    1    2   \n2    1    3   \n3    1    4   \n4    1    5   \n\n   Число избирателей, внесенных в список избирателей на момент окончания голосования  \\\n0                                               1803                                   \n1                                               1466                                   \n2                                               2092                                   \n3                                               1056                                   \n4                                               1827                                   \n\n   Число избирательных бюллетеней, полученных участковой избирательной комиссией  \\\n0                                               1200                               \n1                                               1100                               \n2                                               1600                               \n3                                               1000                               \n4                                               1400                               \n\n   Число избирательных бюллетеней, выданных избирателям в помещении для голосования в день голосования  \\\n0                                                587                                                     \n1                                                433                                                     \n2                                                576                                                     \n3                                                318                                                     \n4                                                495                                                     \n\n   Число избирательных бюллетеней, выданных избирателям, проголосовавшим вне помещения для голосования  \\\n0                                                 11                                                     \n1                                                 14                                                     \n2                                                 22                                                     \n3                                                  4                                                     \n4                                                  8                                                     \n\n   Число погашенных избирательных бюллетеней  \\\n0                                        602   \n1                                        653   \n2                                       1002   \n3                                        678   \n4                                        897   \n\n   Число избирательных бюллетеней, содержащихся в переносных ящиках для голосования  \\\n0                                                 11                                  \n1                                                 14                                  \n2                                                 22                                  \n3                                                  4                                  \n4                                                  8                                  \n\n   Число избирательных бюллетеней, содержащихся в стационарных ящиках для голосования  \\\n0                                                587                                    \n1                                                430                                    \n2                                                576                                    \n3                                                318                                    \n4                                                493                                    \n\n   Число недействительных избирательных бюллетеней  \\\n0                                               23   \n1                                               19   \n2                                               15   \n3                                               13   \n4                                               16   \n\n   Число действительных избирательных бюллетеней  \\\n0                                            575   \n1                                            425   \n2                                            583   \n3                                            309   \n4                                            485   \n\n   Число утраченных избирательных бюллетеней  \\\n0                                          0   \n1                                          0   \n2                                          0   \n3                                          0   \n4                                          0   \n\n   Число избирательных бюллетеней, не учтенных при получении  \\\n0                                                  0           \n1                                                  0           \n2                                                  0           \n3                                                  0           \n4                                                  0           \n\n   Амосов Михаил Иванович  Беглов Александр Дмитриевич  \\\n0                     110                          345   \n1                      53                          326   \n2                     155                          332   \n3                      67                          171   \n4                     137                          266   \n\n   Тихонова Надежда Геннадьевна  \n0                           120  \n1                            46  \n2                            96  \n3                            71  \n4                            82  "
     },
     "execution_count": 58,
     "metadata": {},
     "output_type": "execute_result"
    }
   ],
   "source": [
    "import pandas as pd\n",
    "df = pd.read_csv(\"hw4/elections_scrape.csv\")\n",
    "df.head(5)"
   ]
  },
  {
   "cell_type": "code",
   "execution_count": 136,
   "metadata": {},
   "outputs": [
    {
     "data": {
      "text/html": "<div>\n<style scoped>\n    .dataframe tbody tr th:only-of-type {\n        vertical-align: middle;\n    }\n\n    .dataframe tbody tr th {\n        vertical-align: top;\n    }\n\n    .dataframe thead th {\n        text-align: right;\n    }\n</style>\n<table border=\"1\" class=\"dataframe\">\n  <thead>\n    <tr style=\"text-align: right;\">\n      <th></th>\n      <th>tik</th>\n      <th>uik</th>\n      <th>wholeNumOfElectors</th>\n      <th>wholeNumOfBallots</th>\n      <th>givenBallotsInside</th>\n      <th>givenBallotsOutside</th>\n      <th>ejectedBallots</th>\n      <th>submittedBallotsOutside</th>\n      <th>submittedBallotsInside</th>\n      <th>spoiledBallots</th>\n      <th>validBallots</th>\n      <th>lostBallots</th>\n      <th>untrackedBallots</th>\n      <th>amosov</th>\n      <th>beglov</th>\n      <th>tikhonova</th>\n      <th>uik_turnout</th>\n      <th>tikhonova%</th>\n      <th>beglov%</th>\n      <th>amosov%</th>\n    </tr>\n  </thead>\n  <tbody>\n    <tr>\n      <th>0</th>\n      <td>1</td>\n      <td>1</td>\n      <td>1803</td>\n      <td>1200</td>\n      <td>587</td>\n      <td>11</td>\n      <td>602</td>\n      <td>11</td>\n      <td>587</td>\n      <td>23</td>\n      <td>575</td>\n      <td>0</td>\n      <td>0</td>\n      <td>110</td>\n      <td>345</td>\n      <td>120</td>\n      <td>0.498333</td>\n      <td>21</td>\n      <td>60</td>\n      <td>19</td>\n    </tr>\n    <tr>\n      <th>1</th>\n      <td>1</td>\n      <td>2</td>\n      <td>1466</td>\n      <td>1100</td>\n      <td>433</td>\n      <td>14</td>\n      <td>653</td>\n      <td>14</td>\n      <td>430</td>\n      <td>19</td>\n      <td>425</td>\n      <td>0</td>\n      <td>0</td>\n      <td>53</td>\n      <td>326</td>\n      <td>46</td>\n      <td>0.406364</td>\n      <td>11</td>\n      <td>77</td>\n      <td>12</td>\n    </tr>\n    <tr>\n      <th>2</th>\n      <td>1</td>\n      <td>3</td>\n      <td>2092</td>\n      <td>1600</td>\n      <td>576</td>\n      <td>22</td>\n      <td>1002</td>\n      <td>22</td>\n      <td>576</td>\n      <td>15</td>\n      <td>583</td>\n      <td>0</td>\n      <td>0</td>\n      <td>155</td>\n      <td>332</td>\n      <td>96</td>\n      <td>0.373750</td>\n      <td>16</td>\n      <td>57</td>\n      <td>27</td>\n    </tr>\n    <tr>\n      <th>3</th>\n      <td>1</td>\n      <td>4</td>\n      <td>1056</td>\n      <td>1000</td>\n      <td>318</td>\n      <td>4</td>\n      <td>678</td>\n      <td>4</td>\n      <td>318</td>\n      <td>13</td>\n      <td>309</td>\n      <td>0</td>\n      <td>0</td>\n      <td>67</td>\n      <td>171</td>\n      <td>71</td>\n      <td>0.322000</td>\n      <td>23</td>\n      <td>55</td>\n      <td>22</td>\n    </tr>\n    <tr>\n      <th>4</th>\n      <td>1</td>\n      <td>5</td>\n      <td>1827</td>\n      <td>1400</td>\n      <td>495</td>\n      <td>8</td>\n      <td>897</td>\n      <td>8</td>\n      <td>493</td>\n      <td>16</td>\n      <td>485</td>\n      <td>0</td>\n      <td>0</td>\n      <td>137</td>\n      <td>266</td>\n      <td>82</td>\n      <td>0.359286</td>\n      <td>17</td>\n      <td>55</td>\n      <td>28</td>\n    </tr>\n  </tbody>\n</table>\n</div>",
      "text/plain": "   tik  uik  wholeNumOfElectors  wholeNumOfBallots  givenBallotsInside  \\\n0    1    1                1803               1200                 587   \n1    1    2                1466               1100                 433   \n2    1    3                2092               1600                 576   \n3    1    4                1056               1000                 318   \n4    1    5                1827               1400                 495   \n\n   givenBallotsOutside  ejectedBallots  submittedBallotsOutside  \\\n0                   11             602                       11   \n1                   14             653                       14   \n2                   22            1002                       22   \n3                    4             678                        4   \n4                    8             897                        8   \n\n   submittedBallotsInside  spoiledBallots  validBallots  lostBallots  \\\n0                     587              23           575            0   \n1                     430              19           425            0   \n2                     576              15           583            0   \n3                     318              13           309            0   \n4                     493              16           485            0   \n\n   untrackedBallots  amosov  beglov  tikhonova  uik_turnout  tikhonova%  \\\n0                 0     110     345        120     0.498333          21   \n1                 0      53     326         46     0.406364          11   \n2                 0     155     332         96     0.373750          16   \n3                 0      67     171         71     0.322000          23   \n4                 0     137     266         82     0.359286          17   \n\n   beglov%  amosov%  \n0       60       19  \n1       77       12  \n2       57       27  \n3       55       22  \n4       55       28  "
     },
     "execution_count": 136,
     "metadata": {},
     "output_type": "execute_result"
    }
   ],
   "source": [
    "#Переименуем колонки для более удобного обращения\n",
    "df = df.rename(columns={\"ТИК\" : 'tik','УИК' : 'uik',\"Число избирателей, внесенных в список избирателей на момент окончания голосования\" : 'wholeNumOfElectors',\"Число избирательных бюллетеней, полученных участковой избирательной комиссией\" : 'wholeNumOfBallots',\"Число избирательных бюллетеней, выданных избирателям в помещении для голосования в день голосования\" : 'givenBallotsInside',\"Число избирательных бюллетеней, выданных избирателям, проголосовавшим вне помещения для голосования\" : 'givenBallotsOutside', 'Число погашенных избирательных бюллетеней' : 'ejectedBallots', \"Число избирательных бюллетеней, содержащихся в переносных ящиках для голосования\" : 'submittedBallotsOutside',\"Число избирательных бюллетеней, содержащихся в стационарных ящиках для голосования\" : 'submittedBallotsInside', 'Число недействительных избирательных бюллетеней' : 'spoiledBallots', 'Число действительных избирательных бюллетеней' : 'validBallots', 'Число утраченных избирательных бюллетеней' : 'lostBallots', \"Число избирательных бюллетеней, не учтенных при получении\" : 'untrackedBallots', 'Амосов Михаил Иванович' : 'amosov', 'Беглов Александр Дмитриевич' : 'beglov', 'Тихонова Надежда Геннадьевна' : 'tikhonova'})\n",
    "df.head(5)"
   ]
  },
  {
   "cell_type": "markdown",
   "execution_count": null,
   "metadata": {},
   "outputs": [],
   "source": [
    "- Явка (%) по всем ТИК, результат отсортировать по убыванию"
   ]
  },
  {
   "cell_type": "code",
   "execution_count": 114,
   "metadata": {},
   "outputs": [
    {
     "data": {
      "text/plain": "tik\n18    51.531228\n15    40.013072\n13    39.672610\n19    37.812382\n8     36.040981\n20    33.780554\n9     33.521975\n22    32.486297\n30    32.102011\n2     31.787913\n1     31.483272\n29    30.770507\n10    30.517413\n4     30.431840\n7     29.254120\n21    29.138204\n25    29.020921\n17    28.440004\n23    28.193842\n16    28.191436\n14    27.522452\n28    27.224589\n11    26.877083\n5     26.753819\n24    26.653968\n3     26.620459\n12    26.410227\n26    26.264800\n6     25.008379\n27    24.792315\ndtype: float64"
     },
     "execution_count": 114,
     "metadata": {},
     "output_type": "execute_result"
    }
   ],
   "source": [
    "grouped = df.groupby(['tik']).sum()\n",
    "\n",
    "turnout = (grouped['givenBallotsInside'] + grouped['givenBallotsOutside']) / (grouped['wholeNumOfElectors'])*100\n",
    "turnout.sort_values(ascending=False)"
   ]
  },
  {
   "cell_type": "markdown",
   "execution_count": null,
   "metadata": {},
   "outputs": [],
   "source": [
    "- Участок, на котором Тихонова получила наибольший результат (%, учитывать участки на которых проголосовало больше 100 человек)"
   ]
  },
  {
   "cell_type": "code",
   "execution_count": 141,
   "metadata": {},
   "outputs": [
    {
     "ename": "KeyError",
     "evalue": "\"None of [Float64Index([0.20869565217391303, 0.10823529411764705,  0.1646655231560892,\\n               0.2297734627831715, 0.16907216494845362, 0.16079295154185022,\\n               0.1865671641791045, 0.15924657534246575,  0.2095435684647303,\\n              0.19624217118997914,\\n              ...\\n              0.18633540372670807,  0.1366906474820144, 0.11560693641618497,\\n              0.11428571428571428, 0.06976744186046512,  0.0639269406392694,\\n              0.11711711711711711, 0.09745762711864407,  0.0927536231884058,\\n              0.09004739336492891],\\n             dtype='float64', length=2021)] are in the [columns]\"",
     "output_type": "error",
     "traceback": [
      "\u001b[0;31m---------------------------------------------------------------------------\u001b[0m",
      "\u001b[0;31mKeyError\u001b[0m                                  Traceback (most recent call last)",
      "\u001b[0;32m<ipython-input-141-f633bf7a65f1>\u001b[0m in \u001b[0;36m<module>\u001b[0;34m\u001b[0m\n\u001b[0;32m----> 1\u001b[0;31m \u001b[0mtikhonova_max\u001b[0m \u001b[0;34m=\u001b[0m \u001b[0mdf\u001b[0m\u001b[0;34m[\u001b[0m\u001b[0;34m(\u001b[0m\u001b[0mdf\u001b[0m\u001b[0;34m[\u001b[0m\u001b[0;34m'tikhonova'\u001b[0m\u001b[0;34m]\u001b[0m \u001b[0;34m/\u001b[0m \u001b[0;34m(\u001b[0m\u001b[0mdf\u001b[0m\u001b[0;34m[\u001b[0m\u001b[0;34m'beglov'\u001b[0m\u001b[0;34m]\u001b[0m \u001b[0;34m+\u001b[0m \u001b[0mdf\u001b[0m\u001b[0;34m[\u001b[0m\u001b[0;34m'amosov'\u001b[0m\u001b[0;34m]\u001b[0m \u001b[0;34m+\u001b[0m \u001b[0mdf\u001b[0m\u001b[0;34m[\u001b[0m\u001b[0;34m'tikhonova'\u001b[0m\u001b[0;34m]\u001b[0m\u001b[0;34m)\u001b[0m\u001b[0;34m)\u001b[0m\u001b[0;34m]\u001b[0m\u001b[0;34m\u001b[0m\u001b[0;34m\u001b[0m\u001b[0m\n\u001b[0m\u001b[1;32m      2\u001b[0m \u001b[0mtikhonova_max\u001b[0m \u001b[0;34m=\u001b[0m \u001b[0mtikhonova_max\u001b[0m\u001b[0;34m[\u001b[0m\u001b[0;34m(\u001b[0m\u001b[0mtikhonova_max\u001b[0m\u001b[0;34m[\u001b[0m\u001b[0;34m'givenBallotsInside'\u001b[0m\u001b[0;34m]\u001b[0m \u001b[0;34m+\u001b[0m \u001b[0mtikhonova_max\u001b[0m\u001b[0;34m[\u001b[0m\u001b[0;34m'givenBallotsOutside'\u001b[0m\u001b[0;34m]\u001b[0m\u001b[0;34m)\u001b[0m \u001b[0;34m>\u001b[0m \u001b[0;36m100\u001b[0m\u001b[0;34m]\u001b[0m\u001b[0;34m\u001b[0m\u001b[0;34m\u001b[0m\u001b[0m\n\u001b[1;32m      3\u001b[0m \u001b[0mdf\u001b[0m\u001b[0;34m.\u001b[0m\u001b[0mloc\u001b[0m\u001b[0;34m[\u001b[0m\u001b[0mtikhonova_max\u001b[0m\u001b[0;34m.\u001b[0m\u001b[0midxmax\u001b[0m\u001b[0;34m(\u001b[0m\u001b[0;34m)\u001b[0m\u001b[0;34m,\u001b[0m \u001b[0;34m'uik'\u001b[0m\u001b[0;34m]\u001b[0m\u001b[0;34m,\u001b[0m \u001b[0mtikhonova_max\u001b[0m\u001b[0;34m.\u001b[0m\u001b[0mmax\u001b[0m\u001b[0;34m(\u001b[0m\u001b[0;34m)\u001b[0m\u001b[0;34m*\u001b[0m\u001b[0;36m100\u001b[0m\u001b[0;34m\u001b[0m\u001b[0;34m\u001b[0m\u001b[0m\n",
      "\u001b[0;32m/usr/local/lib/python3.6/dist-packages/pandas/core/frame.py\u001b[0m in \u001b[0;36m__getitem__\u001b[0;34m(self, key)\u001b[0m\n\u001b[1;32m   2999\u001b[0m             \u001b[0;32mif\u001b[0m \u001b[0mis_iterator\u001b[0m\u001b[0;34m(\u001b[0m\u001b[0mkey\u001b[0m\u001b[0;34m)\u001b[0m\u001b[0;34m:\u001b[0m\u001b[0;34m\u001b[0m\u001b[0;34m\u001b[0m\u001b[0m\n\u001b[1;32m   3000\u001b[0m                 \u001b[0mkey\u001b[0m \u001b[0;34m=\u001b[0m \u001b[0mlist\u001b[0m\u001b[0;34m(\u001b[0m\u001b[0mkey\u001b[0m\u001b[0;34m)\u001b[0m\u001b[0;34m\u001b[0m\u001b[0;34m\u001b[0m\u001b[0m\n\u001b[0;32m-> 3001\u001b[0;31m             \u001b[0mindexer\u001b[0m \u001b[0;34m=\u001b[0m \u001b[0mself\u001b[0m\u001b[0;34m.\u001b[0m\u001b[0mloc\u001b[0m\u001b[0;34m.\u001b[0m\u001b[0m_convert_to_indexer\u001b[0m\u001b[0;34m(\u001b[0m\u001b[0mkey\u001b[0m\u001b[0;34m,\u001b[0m \u001b[0maxis\u001b[0m\u001b[0;34m=\u001b[0m\u001b[0;36m1\u001b[0m\u001b[0;34m,\u001b[0m \u001b[0mraise_missing\u001b[0m\u001b[0;34m=\u001b[0m\u001b[0;32mTrue\u001b[0m\u001b[0;34m)\u001b[0m\u001b[0;34m\u001b[0m\u001b[0;34m\u001b[0m\u001b[0m\n\u001b[0m\u001b[1;32m   3002\u001b[0m \u001b[0;34m\u001b[0m\u001b[0m\n\u001b[1;32m   3003\u001b[0m         \u001b[0;31m# take() does not accept boolean indexers\u001b[0m\u001b[0;34m\u001b[0m\u001b[0;34m\u001b[0m\u001b[0;34m\u001b[0m\u001b[0m\n",
      "\u001b[0;32m/usr/local/lib/python3.6/dist-packages/pandas/core/indexing.py\u001b[0m in \u001b[0;36m_convert_to_indexer\u001b[0;34m(self, obj, axis, is_setter, raise_missing)\u001b[0m\n\u001b[1;32m   1283\u001b[0m                 \u001b[0;31m# When setting, missing keys are not allowed, even with .loc:\u001b[0m\u001b[0;34m\u001b[0m\u001b[0;34m\u001b[0m\u001b[0;34m\u001b[0m\u001b[0m\n\u001b[1;32m   1284\u001b[0m                 \u001b[0mkwargs\u001b[0m \u001b[0;34m=\u001b[0m \u001b[0;34m{\u001b[0m\u001b[0;34m\"raise_missing\"\u001b[0m\u001b[0;34m:\u001b[0m \u001b[0;32mTrue\u001b[0m \u001b[0;32mif\u001b[0m \u001b[0mis_setter\u001b[0m \u001b[0;32melse\u001b[0m \u001b[0mraise_missing\u001b[0m\u001b[0;34m}\u001b[0m\u001b[0;34m\u001b[0m\u001b[0;34m\u001b[0m\u001b[0m\n\u001b[0;32m-> 1285\u001b[0;31m                 \u001b[0;32mreturn\u001b[0m \u001b[0mself\u001b[0m\u001b[0;34m.\u001b[0m\u001b[0m_get_listlike_indexer\u001b[0m\u001b[0;34m(\u001b[0m\u001b[0mobj\u001b[0m\u001b[0;34m,\u001b[0m \u001b[0maxis\u001b[0m\u001b[0;34m,\u001b[0m \u001b[0;34m**\u001b[0m\u001b[0mkwargs\u001b[0m\u001b[0;34m)\u001b[0m\u001b[0;34m[\u001b[0m\u001b[0;36m1\u001b[0m\u001b[0;34m]\u001b[0m\u001b[0;34m\u001b[0m\u001b[0;34m\u001b[0m\u001b[0m\n\u001b[0m\u001b[1;32m   1286\u001b[0m         \u001b[0;32melse\u001b[0m\u001b[0;34m:\u001b[0m\u001b[0;34m\u001b[0m\u001b[0;34m\u001b[0m\u001b[0m\n\u001b[1;32m   1287\u001b[0m             \u001b[0;32mtry\u001b[0m\u001b[0;34m:\u001b[0m\u001b[0;34m\u001b[0m\u001b[0;34m\u001b[0m\u001b[0m\n",
      "\u001b[0;32m/usr/local/lib/python3.6/dist-packages/pandas/core/indexing.py\u001b[0m in \u001b[0;36m_get_listlike_indexer\u001b[0;34m(self, key, axis, raise_missing)\u001b[0m\n\u001b[1;32m   1090\u001b[0m \u001b[0;34m\u001b[0m\u001b[0m\n\u001b[1;32m   1091\u001b[0m         self._validate_read_indexer(\n\u001b[0;32m-> 1092\u001b[0;31m             \u001b[0mkeyarr\u001b[0m\u001b[0;34m,\u001b[0m \u001b[0mindexer\u001b[0m\u001b[0;34m,\u001b[0m \u001b[0mo\u001b[0m\u001b[0;34m.\u001b[0m\u001b[0m_get_axis_number\u001b[0m\u001b[0;34m(\u001b[0m\u001b[0maxis\u001b[0m\u001b[0;34m)\u001b[0m\u001b[0;34m,\u001b[0m \u001b[0mraise_missing\u001b[0m\u001b[0;34m=\u001b[0m\u001b[0mraise_missing\u001b[0m\u001b[0;34m\u001b[0m\u001b[0;34m\u001b[0m\u001b[0m\n\u001b[0m\u001b[1;32m   1093\u001b[0m         )\n\u001b[1;32m   1094\u001b[0m         \u001b[0;32mreturn\u001b[0m \u001b[0mkeyarr\u001b[0m\u001b[0;34m,\u001b[0m \u001b[0mindexer\u001b[0m\u001b[0;34m\u001b[0m\u001b[0;34m\u001b[0m\u001b[0m\n",
      "\u001b[0;32m/usr/local/lib/python3.6/dist-packages/pandas/core/indexing.py\u001b[0m in \u001b[0;36m_validate_read_indexer\u001b[0;34m(self, key, indexer, axis, raise_missing)\u001b[0m\n\u001b[1;32m   1175\u001b[0m                 raise KeyError(\n\u001b[1;32m   1176\u001b[0m                     \"None of [{key}] are in the [{axis}]\".format(\n\u001b[0;32m-> 1177\u001b[0;31m                         \u001b[0mkey\u001b[0m\u001b[0;34m=\u001b[0m\u001b[0mkey\u001b[0m\u001b[0;34m,\u001b[0m \u001b[0maxis\u001b[0m\u001b[0;34m=\u001b[0m\u001b[0mself\u001b[0m\u001b[0;34m.\u001b[0m\u001b[0mobj\u001b[0m\u001b[0;34m.\u001b[0m\u001b[0m_get_axis_name\u001b[0m\u001b[0;34m(\u001b[0m\u001b[0maxis\u001b[0m\u001b[0;34m)\u001b[0m\u001b[0;34m\u001b[0m\u001b[0;34m\u001b[0m\u001b[0m\n\u001b[0m\u001b[1;32m   1178\u001b[0m                     )\n\u001b[1;32m   1179\u001b[0m                 )\n",
      "\u001b[0;31mKeyError\u001b[0m: \"None of [Float64Index([0.20869565217391303, 0.10823529411764705,  0.1646655231560892,\\n               0.2297734627831715, 0.16907216494845362, 0.16079295154185022,\\n               0.1865671641791045, 0.15924657534246575,  0.2095435684647303,\\n              0.19624217118997914,\\n              ...\\n              0.18633540372670807,  0.1366906474820144, 0.11560693641618497,\\n              0.11428571428571428, 0.06976744186046512,  0.0639269406392694,\\n              0.11711711711711711, 0.09745762711864407,  0.0927536231884058,\\n              0.09004739336492891],\\n             dtype='float64', length=2021)] are in the [columns]\""
     ]
    }
   ],
   "source": [
    "tikhonova_max = df[(df['tikhonova'] / (df['beglov'] + df['amosov'] + df['tikhonova']))]\n",
    "tikhonova_max = tikhonova_max[(tikhonova_max['givenBallotsInside'] + tikhonova_max['givenBallotsOutside']) > 100]\n",
    "df.loc[tikhonova_max.idxmax(), 'uik'], tikhonova_max.max()*100"
   ]
  },
  {
   "cell_type": "markdown",
   "execution_count": null,
   "metadata": {},
   "outputs": [],
   "source": [
    "- ТИК, где разница между УИК с наибольшей явкой и наименьшей максимальна"
   ]
  },
  {
   "cell_type": "code",
   "execution_count": 75,
   "metadata": {},
   "outputs": [
    {
     "data": {
      "text/plain": "(23, 0.8233333333333333)"
     },
     "execution_count": 75,
     "metadata": {},
     "output_type": "execute_result"
    }
   ],
   "source": [
    "df['uik_turnout'] = (df['givenBallotsInside'] + df['givenBallotsOutside']) / df['wholeNumOfBallots']\n",
    "tik_turnout_difference = grouped['uik_turnout'].max() - grouped['uik_turnout'].min()\n",
    "tik_turnout_difference.idxmax(), tik_turnout_difference.max()"
   ]
  },
  {
   "cell_type": "markdown",
   "execution_count": 53,
   "metadata": {},
   "outputs": [
    {
     "data": {
      "text/plain": "3814342"
     },
     "execution_count": 53,
     "metadata": {},
     "output_type": "execute_result"
    }
   ],
   "source": [
    "- Дисперсия по явке для каждого ТИК (учитывать УИК)"
   ]
  },
  {
   "cell_type": "code",
   "execution_count": 83,
   "metadata": {},
   "outputs": [
    {
     "data": {
      "text/plain": "tik\n1     0.019097\n2     0.020602\n3     0.008367\n4     0.006806\n5     0.004582\n6     0.003349\n7     0.010603\n8     0.017328\n9     0.015448\n10    0.011562\n11    0.015875\n12    0.004955\n13    0.035405\n14    0.006442\n15    0.013576\n16    0.007639\n17    0.013702\n18    0.027826\n19    0.024000\n20    0.015837\n21    0.014933\n22    0.010349\n23    0.017824\n24    0.008672\n25    0.001570\n26    0.014792\n27    0.015475\n28    0.018141\n29    0.010332\n30    0.029572\nName: uik_turnout, dtype: float64"
     },
     "execution_count": 83,
     "metadata": {},
     "output_type": "execute_result"
    }
   ],
   "source": [
    "grouped['uik_turnout'].var()"
   ]
  },
  {
   "cell_type": "markdown",
   "execution_count": null,
   "metadata": {},
   "outputs": [],
   "source": [
    "- Таблица для каждого кандидата: результат (%, округленный до целого) - количество УИК, на которых кандидат получил данный результат"
   ]
  },
  {
   "cell_type": "code",
   "execution_count": 135,
   "metadata": {},
   "outputs": [
    {
     "data": {
      "text/html": "<div>\n<style scoped>\n    .dataframe tbody tr th:only-of-type {\n        vertical-align: middle;\n    }\n\n    .dataframe tbody tr th {\n        vertical-align: top;\n    }\n\n    .dataframe thead th {\n        text-align: right;\n    }\n</style>\n<table border=\"1\" class=\"dataframe\">\n  <thead>\n    <tr style=\"text-align: right;\">\n      <th></th>\n      <th>tikhonova</th>\n      <th>beglov</th>\n      <th>amosov</th>\n    </tr>\n    <tr>\n      <th>percent</th>\n      <th></th>\n      <th></th>\n      <th></th>\n    </tr>\n  </thead>\n  <tbody>\n    <tr>\n      <th>0</th>\n      <td>2.0</td>\n      <td>NaN</td>\n      <td>1.0</td>\n    </tr>\n    <tr>\n      <th>4</th>\n      <td>9.0</td>\n      <td>NaN</td>\n      <td>13.0</td>\n    </tr>\n    <tr>\n      <th>8</th>\n      <td>29.0</td>\n      <td>NaN</td>\n      <td>41.0</td>\n    </tr>\n    <tr>\n      <th>12</th>\n      <td>62.0</td>\n      <td>NaN</td>\n      <td>121.0</td>\n    </tr>\n    <tr>\n      <th>16</th>\n      <td>170.0</td>\n      <td>NaN</td>\n      <td>165.0</td>\n    </tr>\n    <tr>\n      <th>20</th>\n      <td>178.0</td>\n      <td>NaN</td>\n      <td>100.0</td>\n    </tr>\n    <tr>\n      <th>24</th>\n      <td>45.0</td>\n      <td>NaN</td>\n      <td>53.0</td>\n    </tr>\n    <tr>\n      <th>28</th>\n      <td>9.0</td>\n      <td>NaN</td>\n      <td>30.0</td>\n    </tr>\n    <tr>\n      <th>32</th>\n      <td>6.0</td>\n      <td>1.0</td>\n      <td>7.0</td>\n    </tr>\n    <tr>\n      <th>36</th>\n      <td>2.0</td>\n      <td>NaN</td>\n      <td>3.0</td>\n    </tr>\n    <tr>\n      <th>40</th>\n      <td>NaN</td>\n      <td>1.0</td>\n      <td>NaN</td>\n    </tr>\n    <tr>\n      <th>44</th>\n      <td>NaN</td>\n      <td>4.0</td>\n      <td>NaN</td>\n    </tr>\n    <tr>\n      <th>48</th>\n      <td>1.0</td>\n      <td>18.0</td>\n      <td>NaN</td>\n    </tr>\n    <tr>\n      <th>52</th>\n      <td>NaN</td>\n      <td>34.0</td>\n      <td>NaN</td>\n    </tr>\n    <tr>\n      <th>56</th>\n      <td>NaN</td>\n      <td>43.0</td>\n      <td>NaN</td>\n    </tr>\n    <tr>\n      <th>60</th>\n      <td>NaN</td>\n      <td>87.0</td>\n      <td>NaN</td>\n    </tr>\n    <tr>\n      <th>64</th>\n      <td>NaN</td>\n      <td>98.0</td>\n      <td>NaN</td>\n    </tr>\n    <tr>\n      <th>68</th>\n      <td>NaN</td>\n      <td>85.0</td>\n      <td>NaN</td>\n    </tr>\n  </tbody>\n</table>\n</div>",
      "text/plain": "         tikhonova  beglov  amosov\npercent                           \n0              2.0     NaN     1.0\n4              9.0     NaN    13.0\n8             29.0     NaN    41.0\n12            62.0     NaN   121.0\n16           170.0     NaN   165.0\n20           178.0     NaN   100.0\n24            45.0     NaN    53.0\n28             9.0     NaN    30.0\n32             6.0     1.0     7.0\n36             2.0     NaN     3.0\n40             NaN     1.0     NaN\n44             NaN     4.0     NaN\n48             1.0    18.0     NaN\n52             NaN    34.0     NaN\n56             NaN    43.0     NaN\n60             NaN    87.0     NaN\n64             NaN    98.0     NaN\n68             NaN    85.0     NaN"
     },
     "execution_count": 135,
     "metadata": {},
     "output_type": "execute_result"
    }
   ],
   "source": [
    "import numpy as np\n",
    "\n",
    "df['tikhonova%'] = ((df['tikhonova'] / (df['beglov'] + df['amosov'] + df['tikhonova'])) * 100).round().astype('int')\n",
    "df['beglov%'] = ((df['beglov'] / (df['beglov'] + df['amosov'] + df['tikhonova'])) * 100).round().astype('int')\n",
    "df['amosov%'] = ((df['amosov'] / (df['beglov'] + df['amosov'] + df['tikhonova'])) * 100).round().astype('int')\n",
    "\n",
    "grouped1 = df.groupby(['tikhonova%'])\n",
    "tikhonova_table = grouped1['uik'].count()\n",
    "grouped2 = df.groupby(['beglov%'])\n",
    "beglov_table = grouped2['uik'].count()\n",
    "grouped3 = df.groupby(['amosov%'])\n",
    "amosov_table = grouped3['uik'].count()\n",
    "\n",
    "ind = set(list(tikhonova_table.index))\n",
    "[ind.add(i) for i in list(beglov_table.index)]\n",
    "[ind.add(i) for i in list(amosov_table.index)]\n",
    "\n",
    "table = []\n",
    "for i in list(ind):\n",
    "    try:\n",
    "        var1 = tikhonova_table[i]\n",
    "    except:\n",
    "        var1 = np.nan\n",
    "    try:\n",
    "        var2 = beglov_table[i]\n",
    "    except:\n",
    "        var2 = np.nan\n",
    "    try:\n",
    "        var3 = amosov_table[i]\n",
    "    except:\n",
    "        var3 = np.nan\n",
    "    table.append([var1, var2, var3])\n",
    "\n",
    "table = pd.DataFrame(table, index=ind, columns=['tikhonova', 'beglov', 'amosov'])\n",
    "table.index.name = 'percent'\n",
    "table[:70:4]"
   ]
  },
  {
   "cell_type": "code",
   "execution_count": 100,
   "metadata": {},
   "outputs": [
    {
     "data": {
      "text/html": "<div>\n<style scoped>\n    .dataframe tbody tr th:only-of-type {\n        vertical-align: middle;\n    }\n\n    .dataframe tbody tr th {\n        vertical-align: top;\n    }\n\n    .dataframe thead th {\n        text-align: right;\n    }\n</style>\n<table border=\"1\" class=\"dataframe\">\n  <thead>\n    <tr style=\"text-align: right;\">\n      <th></th>\n      <th>tik</th>\n      <th>uik</th>\n      <th>wholeNumOfElectors</th>\n      <th>wholeNumOfBallots</th>\n      <th>givenBallotsInside</th>\n      <th>givenBallotsOutside</th>\n      <th>ejectedBallots</th>\n      <th>submittedBallotsOutside</th>\n      <th>submittedBallotsInside</th>\n      <th>spoiledBallots</th>\n      <th>validBallots</th>\n      <th>lostBallots</th>\n      <th>untrackedBallots</th>\n      <th>amosov</th>\n      <th>beglov</th>\n      <th>tikhonova</th>\n      <th>uik_turnout</th>\n      <th>tikhonova%</th>\n      <th>beglov%</th>\n      <th>amosov%</th>\n    </tr>\n  </thead>\n  <tbody>\n    <tr>\n      <th>6</th>\n      <td>1</td>\n      <td>7</td>\n      <td>2095</td>\n      <td>1600</td>\n      <td>532</td>\n      <td>17</td>\n      <td>1051</td>\n      <td>17</td>\n      <td>532</td>\n      <td>13</td>\n      <td>536</td>\n      <td>0</td>\n      <td>0</td>\n      <td>131</td>\n      <td>305</td>\n      <td>100</td>\n      <td>0.343125</td>\n      <td>19</td>\n      <td>57</td>\n      <td>24</td>\n    </tr>\n    <tr>\n      <th>20</th>\n      <td>1</td>\n      <td>21</td>\n      <td>1736</td>\n      <td>1300</td>\n      <td>522</td>\n      <td>17</td>\n      <td>761</td>\n      <td>17</td>\n      <td>522</td>\n      <td>21</td>\n      <td>518</td>\n      <td>0</td>\n      <td>0</td>\n      <td>138</td>\n      <td>283</td>\n      <td>97</td>\n      <td>0.414615</td>\n      <td>19</td>\n      <td>55</td>\n      <td>27</td>\n    </tr>\n    <tr>\n      <th>22</th>\n      <td>1</td>\n      <td>23</td>\n      <td>1344</td>\n      <td>1300</td>\n      <td>565</td>\n      <td>15</td>\n      <td>720</td>\n      <td>15</td>\n      <td>545</td>\n      <td>24</td>\n      <td>536</td>\n      <td>0</td>\n      <td>0</td>\n      <td>101</td>\n      <td>332</td>\n      <td>103</td>\n      <td>0.446154</td>\n      <td>19</td>\n      <td>62</td>\n      <td>19</td>\n    </tr>\n    <tr>\n      <th>45</th>\n      <td>1</td>\n      <td>46</td>\n      <td>1746</td>\n      <td>1300</td>\n      <td>507</td>\n      <td>6</td>\n      <td>787</td>\n      <td>6</td>\n      <td>507</td>\n      <td>17</td>\n      <td>496</td>\n      <td>0</td>\n      <td>0</td>\n      <td>87</td>\n      <td>314</td>\n      <td>95</td>\n      <td>0.394615</td>\n      <td>19</td>\n      <td>63</td>\n      <td>18</td>\n    </tr>\n    <tr>\n      <th>47</th>\n      <td>1</td>\n      <td>48</td>\n      <td>1204</td>\n      <td>1000</td>\n      <td>447</td>\n      <td>4</td>\n      <td>549</td>\n      <td>4</td>\n      <td>446</td>\n      <td>8</td>\n      <td>442</td>\n      <td>0</td>\n      <td>0</td>\n      <td>72</td>\n      <td>287</td>\n      <td>83</td>\n      <td>0.451000</td>\n      <td>19</td>\n      <td>65</td>\n      <td>16</td>\n    </tr>\n    <tr>\n      <th>...</th>\n      <td>...</td>\n      <td>...</td>\n      <td>...</td>\n      <td>...</td>\n      <td>...</td>\n      <td>...</td>\n      <td>...</td>\n      <td>...</td>\n      <td>...</td>\n      <td>...</td>\n      <td>...</td>\n      <td>...</td>\n      <td>...</td>\n      <td>...</td>\n      <td>...</td>\n      <td>...</td>\n      <td>...</td>\n      <td>...</td>\n      <td>...</td>\n      <td>...</td>\n    </tr>\n    <tr>\n      <th>1987</th>\n      <td>30</td>\n      <td>2249</td>\n      <td>1858</td>\n      <td>1500</td>\n      <td>505</td>\n      <td>4</td>\n      <td>991</td>\n      <td>4</td>\n      <td>497</td>\n      <td>14</td>\n      <td>487</td>\n      <td>0</td>\n      <td>0</td>\n      <td>140</td>\n      <td>253</td>\n      <td>94</td>\n      <td>0.339333</td>\n      <td>19</td>\n      <td>52</td>\n      <td>29</td>\n    </tr>\n    <tr>\n      <th>1998</th>\n      <td>30</td>\n      <td>2260</td>\n      <td>1756</td>\n      <td>1500</td>\n      <td>517</td>\n      <td>7</td>\n      <td>976</td>\n      <td>7</td>\n      <td>517</td>\n      <td>21</td>\n      <td>503</td>\n      <td>0</td>\n      <td>0</td>\n      <td>126</td>\n      <td>280</td>\n      <td>97</td>\n      <td>0.349333</td>\n      <td>19</td>\n      <td>56</td>\n      <td>25</td>\n    </tr>\n    <tr>\n      <th>2000</th>\n      <td>30</td>\n      <td>2262</td>\n      <td>1433</td>\n      <td>1000</td>\n      <td>449</td>\n      <td>12</td>\n      <td>539</td>\n      <td>12</td>\n      <td>445</td>\n      <td>19</td>\n      <td>438</td>\n      <td>0</td>\n      <td>0</td>\n      <td>97</td>\n      <td>258</td>\n      <td>83</td>\n      <td>0.461000</td>\n      <td>19</td>\n      <td>59</td>\n      <td>22</td>\n    </tr>\n    <tr>\n      <th>2005</th>\n      <td>30</td>\n      <td>2267</td>\n      <td>1795</td>\n      <td>1500</td>\n      <td>534</td>\n      <td>7</td>\n      <td>959</td>\n      <td>7</td>\n      <td>524</td>\n      <td>18</td>\n      <td>513</td>\n      <td>0</td>\n      <td>0</td>\n      <td>97</td>\n      <td>318</td>\n      <td>98</td>\n      <td>0.360667</td>\n      <td>19</td>\n      <td>62</td>\n      <td>19</td>\n    </tr>\n    <tr>\n      <th>2011</th>\n      <td>30</td>\n      <td>2322</td>\n      <td>192</td>\n      <td>250</td>\n      <td>56</td>\n      <td>107</td>\n      <td>87</td>\n      <td>107</td>\n      <td>56</td>\n      <td>2</td>\n      <td>161</td>\n      <td>0</td>\n      <td>0</td>\n      <td>18</td>\n      <td>113</td>\n      <td>30</td>\n      <td>0.652000</td>\n      <td>19</td>\n      <td>70</td>\n      <td>11</td>\n    </tr>\n  </tbody>\n</table>\n<p>178 rows × 20 columns</p>\n</div>",
      "text/plain": "      tik   uik  wholeNumOfElectors  wholeNumOfBallots  givenBallotsInside  \\\n6       1     7                2095               1600                 532   \n20      1    21                1736               1300                 522   \n22      1    23                1344               1300                 565   \n45      1    46                1746               1300                 507   \n47      1    48                1204               1000                 447   \n...   ...   ...                 ...                ...                 ...   \n1987   30  2249                1858               1500                 505   \n1998   30  2260                1756               1500                 517   \n2000   30  2262                1433               1000                 449   \n2005   30  2267                1795               1500                 534   \n2011   30  2322                 192                250                  56   \n\n      givenBallotsOutside  ejectedBallots  submittedBallotsOutside  \\\n6                      17            1051                       17   \n20                     17             761                       17   \n22                     15             720                       15   \n45                      6             787                        6   \n47                      4             549                        4   \n...                   ...             ...                      ...   \n1987                    4             991                        4   \n1998                    7             976                        7   \n2000                   12             539                       12   \n2005                    7             959                        7   \n2011                  107              87                      107   \n\n      submittedBallotsInside  spoiledBallots  validBallots  lostBallots  \\\n6                        532              13           536            0   \n20                       522              21           518            0   \n22                       545              24           536            0   \n45                       507              17           496            0   \n47                       446               8           442            0   \n...                      ...             ...           ...          ...   \n1987                     497              14           487            0   \n1998                     517              21           503            0   \n2000                     445              19           438            0   \n2005                     524              18           513            0   \n2011                      56               2           161            0   \n\n      untrackedBallots  amosov  beglov  tikhonova  uik_turnout  tikhonova%  \\\n6                    0     131     305        100     0.343125          19   \n20                   0     138     283         97     0.414615          19   \n22                   0     101     332        103     0.446154          19   \n45                   0      87     314         95     0.394615          19   \n47                   0      72     287         83     0.451000          19   \n...                ...     ...     ...        ...          ...         ...   \n1987                 0     140     253         94     0.339333          19   \n1998                 0     126     280         97     0.349333          19   \n2000                 0      97     258         83     0.461000          19   \n2005                 0      97     318         98     0.360667          19   \n2011                 0      18     113         30     0.652000          19   \n\n      beglov%  amosov%  \n6          57       24  \n20         55       27  \n22         62       19  \n45         63       18  \n47         65       16  \n...       ...      ...  \n1987       52       29  \n1998       56       25  \n2000       59       22  \n2005       62       19  \n2011       70       11  \n\n[178 rows x 20 columns]"
     },
     "execution_count": 100,
     "metadata": {},
     "output_type": "execute_result"
    }
   ],
   "source": [
    "df[df['tikhonova%'] == 19]"
   ]
  },
  {
   "cell_type": "code",
   "execution_count": null,
   "metadata": {},
   "outputs": [],
   "source": []
  },
  {
   "cell_type": "code",
   "execution_count": null,
   "metadata": {},
   "outputs": [],
   "source": []
  }
 ]
}