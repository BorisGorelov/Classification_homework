{
 "cells": [
  {
   "cell_type": "code",
   "execution_count": 1,
   "metadata": {},
   "outputs": [],
   "source": [
    "import numpy as np\n",
    "import scipy as sp\n",
    "import matplotlib.pyplot as plt\n",
    "import seaborn as sns\n",
    "\n",
    "%matplotlib inline"
   ]
  },
  {
   "cell_type": "markdown",
   "metadata": {},
   "source": [
    "# 1. Работа с массивами NumPy"
   ]
  },
  {
   "cell_type": "markdown",
   "metadata": {},
   "source": [
    "**N. Все упражнения ниже нужно делать без использования циклов Python**\n",
    "\n",
    "**1.** Cоздать вектор\n",
    "\n",
    "$$(2, \\frac{2^2}{2}, \\ldots, \\frac{2^{20}}{20})$$\n",
    "\n",
    "Можно использовать функции [np.arange()](http://docs.scipy.org/doc/numpy/reference/generated/numpy.arange.html), [np.ones()](http://docs.scipy.org/doc/numpy/reference/generated/numpy.ones.html)"
   ]
  },
  {
   "cell_type": "code",
   "execution_count": 8,
   "metadata": {},
   "outputs": [
    {
     "data": {
      "text/plain": "array([2.00000000e+00, 2.00000000e+00, 2.66666667e+00, 4.00000000e+00,\n       6.40000000e+00, 1.06666667e+01, 1.82857143e+01, 3.20000000e+01,\n       5.68888889e+01, 1.02400000e+02, 1.86181818e+02, 3.41333333e+02,\n       6.30153846e+02, 1.17028571e+03, 2.18453333e+03, 4.09600000e+03,\n       7.71011765e+03, 1.45635556e+04, 2.75941053e+04, 5.24288000e+04])"
     },
     "execution_count": 8,
     "metadata": {},
     "output_type": "execute_result"
    }
   ],
   "source": [
    "def foo(x):\n",
    "    return (2**x)/x\n",
    "\n",
    "a = np.arange(1, 21)\n",
    "a = foo(a)\n",
    "a"
   ]
  },
  {
   "cell_type": "markdown",
   "metadata": {},
   "source": [
    "**2.** Посчитать:\n",
    "\n",
    "$$\\sum\\limits_{i=0}^{5}{0.1^{3i}0.2^{4i}}$$\n"
   ]
  },
  {
   "cell_type": "code",
   "execution_count": 27,
   "metadata": {},
   "outputs": [
    {
     "name": "stdout",
     "output_type": "stream",
     "text": "1.00000160000256\n"
    }
   ],
   "source": [
    "def foo2(x):\n",
    "    return (0.1**(3*x))*(0.2**(4*x))\n",
    "print(foo2(np.arange(6)).sum())"
   ]
  },
  {
   "cell_type": "markdown",
   "metadata": {},
   "source": [
    "**3.** Создать нулевую матрицe $8 \\times 8$, и заполнить её единицами в шахматном порядке."
   ]
  },
  {
   "cell_type": "code",
   "execution_count": 38,
   "metadata": {},
   "outputs": [
    {
     "data": {
      "text/plain": "array([[0, 0, 0, 0, 0, 0, 0, 0],\n       [0, 0, 0, 0, 0, 0, 0, 0],\n       [0, 0, 0, 0, 0, 0, 0, 0],\n       [0, 0, 0, 0, 0, 0, 0, 0],\n       [0, 0, 0, 0, 0, 0, 0, 0],\n       [0, 0, 0, 0, 0, 0, 0, 0],\n       [0, 0, 0, 0, 0, 0, 0, 0],\n       [0, 0, 0, 0, 0, 0, 0, 0]])"
     },
     "execution_count": 38,
     "metadata": {},
     "output_type": "execute_result"
    }
   ],
   "source": [
    "np.zeros((8, 8), dtype='int64')\n",
    "indeces = ()"
   ]
  },
  {
   "cell_type": "markdown",
   "metadata": {},
   "source": [
    "**4.** Есть 5 точек в декартовой системе координат (в виде матрицы $X$ размерностью $5 \\times 2$), сконвертируйте эти точки в полярную систему координат."
   ]
  },
  {
   "cell_type": "code",
   "execution_count": 65,
   "metadata": {},
   "outputs": [
    {
     "name": "stdout",
     "output_type": "stream",
     "text": "[[0.21652399 0.92592556]\n [0.64366338 0.89210834]\n [0.9316425  0.8635273 ]\n [0.3524872  0.61463269]\n [0.78588531 0.25372739]] \n\n [[0.95090524 1.34107826]\n [1.10007266 0.94578078]\n [1.27029018 0.74747276]\n [0.70853409 1.05009576]\n [0.82582886 0.31229104]]\n"
    }
   ],
   "source": [
    "X = np.random.random((5, 2))\n",
    "X1 = np.array(np.sqrt(X[:,0]**2+X[:,1]**2)).reshape(5, 1)\n",
    "X2 = np.array(np.arctan(X[:,1]/X[:,0])).reshape(5, 1)\n",
    "ans = np.concatenate((X1,X2), axis=1)\n",
    "print(X, '\\n\\n', ans)"
   ]
  },
  {
   "cell_type": "markdown",
   "metadata": {},
   "source": [
    "**5.** Найдите индексы максимального элемента в случайной матрице $10 \\times 10$.\n",
    "\n",
    "Cм. [np.argmax()](http://docs.scipy.org/doc/numpy/reference/generated/numpy.argmax.html)."
   ]
  },
  {
   "cell_type": "code",
   "execution_count": 72,
   "metadata": {},
   "outputs": [
    {
     "name": "stdout",
     "output_type": "stream",
     "text": "[[0.48760987 0.7405594  0.43744192 0.25014471 0.21252663 0.44381531\n  0.84178801 0.69407394 0.31501452 0.03640043]\n [0.76867814 0.38767653 0.45137777 0.61558495 0.70967479 0.11745301\n  0.00268726 0.31159915 0.16454528 0.44107125]\n [0.37240374 0.74492903 0.73829292 0.3286987  0.28077303 0.27506651\n  0.61660562 0.90869387 0.42201813 0.12060091]\n [0.63344106 0.52742316 0.60564317 0.99886275 0.89324526 0.47775208\n  0.1937157  0.67391286 0.313291   0.11696133]\n [0.16881283 0.89571691 0.47826656 0.58768997 0.90384324 0.75388186\n  0.95203082 0.62518095 0.43658605 0.46011488]\n [0.6022381  0.59686544 0.17015308 0.40333425 0.17105672 0.30438872\n  0.43557479 0.94062577 0.72446567 0.87025181]\n [0.08569212 0.17233194 0.61553706 0.04109931 0.60658399 0.40192076\n  0.48312566 0.9530294  0.07540091 0.18648124]\n [0.27106753 0.98659429 0.28744355 0.99458966 0.95505991 0.78477946\n  0.95492677 0.54593851 0.93772741 0.72826545]\n [0.11885631 0.63852099 0.04990115 0.31440227 0.06507205 0.79893955\n  0.81735053 0.20744535 0.17189732 0.54741068]\n [0.63049313 0.35894001 0.62128614 0.50566581 0.59233519 0.34610828\n  0.16395488 0.91531788 0.45770964 0.87448108]] (3, 3) 0.9988627462403606\n"
    }
   ],
   "source": [
    "a = np.random.random((10, 10))\n",
    "ind = np.unravel_index(np.argmax(a, axis=None), a.shape)\n",
    "print(a, ind, a[ind])"
   ]
  },
  {
   "cell_type": "markdown",
   "metadata": {},
   "source": [
    "**6.** Есть 10 точек ($X$) и ещё одна ($y$). Найти в $X$ ближайшую к $y$ точку."
   ]
  },
  {
   "cell_type": "code",
   "execution_count": null,
   "metadata": {
    "collapsed": true
   },
   "outputs": [],
   "source": [
    "X = np.random.random((10, 2))\n",
    "y = np.random.random((1, 2))\n",
    "\n",
    "## your code"
   ]
  },
  {
   "cell_type": "markdown",
   "metadata": {},
   "source": [
    "**7.** Дана функция:\n",
    "\n",
    "$$\n",
    " \\begin{cases}\n",
    "    x^2 + 2x + 6, & x < 0  \\\\\n",
    "    x + 6, & 0 \\le x \\le 2 \\\\\n",
    "    x^2 + 4x - 4, & x \\ge 2\n",
    " \\end{cases}\n",
    "$$\n",
    "\n",
    "Постройте массив из её значений на  $-3 \\le x \\le 3$."
   ]
  },
  {
   "cell_type": "code",
   "execution_count": null,
   "metadata": {
    "collapsed": true
   },
   "outputs": [],
   "source": [
    "## your code"
   ]
  },
  {
   "cell_type": "markdown",
   "metadata": {},
   "source": [
    "**8.** Из каждого элемента матрицы вычесть среднее арифметическое от всех элементов в соответствующей строке (после чего среднее значение каждой строки должно равняться нулю).\n",
    "\n",
    "Cм. [np.mean()](http://docs.scipy.org/doc/numpy/reference/generated/numpy.mean.html)."
   ]
  },
  {
   "cell_type": "code",
   "execution_count": null,
   "metadata": {
    "collapsed": true
   },
   "outputs": [],
   "source": [
    "X = np.random.random((10, 10))\n",
    "\n",
    "## your code"
   ]
  },
  {
   "cell_type": "markdown",
   "metadata": {},
   "source": [
    "**9.** Есть массив из 1000 чисел, полученных из генератора случайных чисел, имеющий нормальное распределение. Посчитайте выборочное среднее и выборочную дисперсию. "
   ]
  },
  {
   "cell_type": "code",
   "execution_count": null,
   "metadata": {
    "collapsed": true
   },
   "outputs": [],
   "source": [
    "X = np.random.normal(loc=5, scale=2., size=1000)"
   ]
  },
  {
   "cell_type": "markdown",
   "metadata": {},
   "source": [
    "**10.** Создать матрицу:\n",
    "\n",
    "$$\n",
    "\\begin{pmatrix}\n",
    "0 & 1 & 2 & 3 & 4 \\\\\n",
    "1 & 2 & 3 & 4 & 0 \\\\\n",
    "2 & 3 & 4 & 0 & 1 \\\\\n",
    "3 & 4 & 0 & 1 & 2 \\\\\n",
    "4 & 0 & 1 & 2 & 3\n",
    "\\end{pmatrix}\n",
    "$$"
   ]
  },
  {
   "cell_type": "code",
   "execution_count": null,
   "metadata": {
    "collapsed": true
   },
   "outputs": [],
   "source": [
    "## your code"
   ]
  }
 ],
 "metadata": {
  "kernelspec": {
   "display_name": "Python 3",
   "language": "python",
   "name": "python3"
  },
  "language_info": {
   "codemirror_mode": {
    "name": "ipython",
    "version": 3
   },
   "file_extension": ".py",
   "mimetype": "text/x-python",
   "name": "python",
   "nbconvert_exporter": "python",
   "pygments_lexer": "ipython3",
   "version": "3.6.8"
  }
 },
 "nbformat": 4,
 "nbformat_minor": 2
}