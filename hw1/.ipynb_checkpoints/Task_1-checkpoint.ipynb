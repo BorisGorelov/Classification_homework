{
 "cells": [
  {
   "cell_type": "markdown",
   "metadata": {},
   "source": [
    "# Задание 1\n",
    "\n",
    "[Свертка списка](https://ru.wikipedia.org/wiki/%D0%A1%D0%B2%D1%91%D1%80%D1%82%D0%BA%D0%B0_%D1%81%D0%BF%D0%B8%D1%81%D0%BA%D0%B0) -  это обобщенная операция над списком, c помощью которой можно преобразовать список в единое значение. Например, рассмотрим реализации свертки слева и свертки справа (левоассоциативную свертку и правоассоциативную свертку):"
   ]
  },
  {
   "cell_type": "code",
   "execution_count": 7,
   "metadata": {},
   "outputs": [],
   "source": [
    "def foldl(f, x0, lst):\n",
    "    if not lst:\n",
    "        return x0\n",
    "    return foldl(f, f(x0, lst[0]), lst[1:])\n",
    "\n",
    "def foldr(f, x0, lst):\n",
    "    if not lst:\n",
    "        return x0\n",
    "    return f(lst[0], foldr(f, x0, lst[1:]))"
   ]
  },
  {
   "cell_type": "code",
   "execution_count": 10,
   "metadata": {},
   "outputs": [
    {
     "data": {
      "text/plain": [
       "6"
      ]
     },
     "execution_count": 10,
     "metadata": {},
     "output_type": "execute_result"
    }
   ],
   "source": [
    "#сумма\n",
    "foldl(lambda x, y: x + y, 0, [1, 2, 3])\n",
    "#x0 = lambda x : x"
   ]
  },
  {
   "cell_type": "code",
   "execution_count": 13,
   "metadata": {},
   "outputs": [
    {
     "data": {
      "text/plain": [
       "'123'"
      ]
     },
     "execution_count": 13,
     "metadata": {},
     "output_type": "execute_result"
    }
   ],
   "source": [
    "#конкатенация\n",
    "foldr(lambda x, y: '{}{}'.format(x, y), '', [1, 2, 3])"
   ]
  },
  {
   "cell_type": "code",
   "execution_count": 5,
   "metadata": {},
   "outputs": [
    {
     "data": {
      "text/plain": [
       "(0.16666666666666666, 1.5)"
      ]
     },
     "execution_count": 5,
     "metadata": {},
     "output_type": "execute_result"
    }
   ],
   "source": [
    "f = lambda x, y: x / y\n",
    "foldl(f, 1, [1, 2, 3]), \\\n",
    "foldr(f, 1, [1, 2, 3])"
   ]
  },
  {
   "cell_type": "markdown",
   "metadata": {},
   "source": [
    "Задача: реализовать foldl через foldr и наоборот. Вместо многоточий нужно вставить выражения, которые бы привели к нужному результату."
   ]
  },
  {
   "cell_type": "code",
   "execution_count": 6,
   "metadata": {
    "collapsed": true
   },
   "outputs": [],
   "source": [
    "def foldl2(f, x0, lst):\n",
    "    return foldr(..., ..., lst)(...)"
   ]
  },
  {
   "cell_type": "code",
   "execution_count": 7,
   "metadata": {
    "collapsed": true
   },
   "outputs": [],
   "source": [
    "def foldr2(f, x0, lst):\n",
    "    return foldl(..., ..., lst)(...)"
   ]
  },
  {
   "cell_type": "code",
   "execution_count": 8,
   "metadata": {},
   "outputs": [
    {
     "data": {
      "text/plain": [
       "(0.16666666666666666, 1.5)"
      ]
     },
     "execution_count": 8,
     "metadata": {},
     "output_type": "execute_result"
    }
   ],
   "source": [
    "f = lambda x, y: x / y\n",
    "foldl2(f, 1, [1, 2, 3]), \\\n",
    "foldr2(f, 1, [1, 2, 3])"
   ]
  },
  {
   "cell_type": "markdown",
   "metadata": {},
   "source": [
    "# Задание 2\n",
    "\n",
    "нужно написать функцию, которая принимает две строки и проверяет, входит ли хотя бы одна перестановка второй строки в первую. Например:\n",
    "\n",
    "> a = 'abcrotm'\n",
    "> \n",
    "> b = 'tro'\n",
    "\n",
    "функция def check_inv(a, b) вернет True, так как 'rot' содержится в 'abcrotm'. Нужно подумать как можно более оптимальный алгоритм и оценить его сложность. "
   ]
  },
  {
   "cell_type": "code",
   "execution_count": 46,
   "metadata": {},
   "outputs": [
    {
     "data": {
      "text/plain": [
       "True"
      ]
     },
     "execution_count": 46,
     "metadata": {},
     "output_type": "execute_result"
    }
   ],
   "source": [
    "from itertools import permutations\n",
    "\n",
    "def check_inv(a, b):\n",
    "    bperms = {str(''.join(item)) for item in permutations(b, len(b))}\n",
    "    aset = {a[i:(len(b)+i)] for i in range(len(a) - len(b) + 1)}\n",
    "    return bool(bperms & aset)\n",
    "\n",
    "a = 'abcrotm'\n",
    "b = 'tro'\n",
    "check_inv(a, b)"
   ]
  },
  {
   "cell_type": "markdown",
   "metadata": {},
   "source": [
    "# Задание 3\n",
    "\n",
    "Реализовать бинарное дерево (класс Tree), в нём методы __repr__, __str__, __iter__ (итерация только по листьям)."
   ]
  },
  {
   "cell_type": "code",
   "execution_count": 15,
   "metadata": {},
   "outputs": [
    {
     "data": {
      "text/plain": [
       "True"
      ]
     },
     "execution_count": 15,
     "metadata": {},
     "output_type": "execute_result"
    }
   ],
   "source": [
    "class Tree:\n",
    "    def __init__(self, value=None, left=None, right=None):\n",
    "        self.left = left\n",
    "        self.right = right\n",
    "        self.value = value\n",
    "        \n",
    "    def __iter__(self):\n",
    "        if self.left:\n",
    "            yield from self.left\n",
    "        if self.right:\n",
    "            yield from self.right\n",
    "        if not self.left and not self.right:\n",
    "            yield self.value\n",
    "    \n",
    "    def __str__(self):\n",
    "        return str([self.value, self.left, self.right])\n",
    "    \n",
    "    def __repr__(self):\n",
    "        return f'value - {self.value}, left - {self.left}, right - {self.right}'\n",
    "    \n",
    "tree = Tree(0, Tree(1, Tree(3), Tree(4)),                             \n",
    "               Tree(2))\n",
    "\n",
    "list(tree) == [3, 4, 2]"
   ]
  },
  {
   "cell_type": "markdown",
   "metadata": {},
   "source": [
    "# Задание 4\n",
    "\n",
    "Реализовать простейший калькулятор математических выражений:\n",
    "- только целые числа\n",
    "- **+**, **\\-**, **\\***, **\\**\n",
    "- скобки\n",
    "\n",
    "**Можно использовать регулярные выражения**"
   ]
  },
  {
   "cell_type": "code",
   "execution_count": 81,
   "metadata": {},
   "outputs": [
    {
     "data": {
      "text/plain": [
       "True"
      ]
     },
     "execution_count": 81,
     "metadata": {},
     "output_type": "execute_result"
    }
   ],
   "source": [
    "def calc(expr):\n",
    "    return postfix_eval(shunting_yard(expr))\n",
    "\n",
    "calc('2 * (15 - 3 * 4) - 2') == 4"
   ]
  },
  {
   "cell_type": "code",
   "execution_count": 75,
   "metadata": {
    "scrolled": true
   },
   "outputs": [
    {
     "data": {
      "text/plain": [
       "['25', '1545', '3', '-', '*', '32', '2', '4', '+', '/', '+']"
      ]
     },
     "execution_count": 75,
     "metadata": {},
     "output_type": "execute_result"
    }
   ],
   "source": [
    "\n",
    "def shunting_yard(expr):\n",
    "    prior = {'+' : 1, '-' : 1, '*' : 2, '/' : 2}\n",
    "    #преобразуем expr к удобному виду: ['25', '*', '(', '1545', '-', '3', ')']\n",
    "    expr = list(''.join(str(expr).split()))\n",
    "    #print(expr)\n",
    "    i = 0\n",
    "    while(True):\n",
    "        if(expr[i].isdigit() and i < len(expr) and expr[i+1].isdigit()):\n",
    "            expr[i] += expr[i+1]\n",
    "            expr.pop(i+1)\n",
    "        else:\n",
    "            i += 1\n",
    "        if i == len(expr)-1:\n",
    "            break\n",
    "        \n",
    "    ans = []\n",
    "    stack = []\n",
    "    \n",
    "    for i in range(len(expr)):\n",
    "        if expr[i].isdigit():\n",
    "            ans.append(expr[i])\n",
    "            continue\n",
    "        if expr[i] in ['+', '-', '*', '/']:\n",
    "            while stack and stack[-1] in ['+', '-', '*', '/'] \\\n",
    "            and prior[stack[-1]] >= prior[expr[i]]:\n",
    "                ans.append(stack.pop())\n",
    "            stack.append(expr[i])\n",
    "            continue\n",
    "        if expr[i] == '(':\n",
    "            stack.append(expr[i])\n",
    "            continue\n",
    "        if expr[i] == ')':\n",
    "            if not stack:\n",
    "                print('a parenthesis is omitted in the expression.')\n",
    "                return\n",
    "            else:\n",
    "                while stack[-1] != '(':\n",
    "                    ans.append(stack.pop())\n",
    "                    if not stack:\n",
    "                        print('a parenthesis is omitted in the expression.')\n",
    "                        return\n",
    "            stack.pop()\n",
    "    if stack:\n",
    "        for i in range(len(stack)-1, -1, -1):\n",
    "            if stack[i] in ['(', ')']:\n",
    "                print('a parenthesis is omitted in the expression.')\n",
    "                return\n",
    "            ans.append(stack.pop())\n",
    "    return ans\n",
    "\n",
    "shunting_yard('25 * (1545 - 3 ) +32/ (2+4)')"
   ]
  },
  {
   "cell_type": "code",
   "execution_count": 80,
   "metadata": {},
   "outputs": [
    {
     "data": {
      "text/plain": [
       "8.0"
      ]
     },
     "execution_count": 80,
     "metadata": {},
     "output_type": "execute_result"
    }
   ],
   "source": [
    "import operator\n",
    "ops = { \"+\": operator.add, \"-\": operator.sub, \\\n",
    "       \"*\": operator.mul, \"/\": operator.truediv}\n",
    "\n",
    "def postfix_eval(expr):\n",
    "    stack = []\n",
    "    for token in expr:\n",
    "        if token in ['+', '-', '*', '/']:\n",
    "            oper2 = stack.pop()\n",
    "            oper1 = stack.pop()\n",
    "            result = ops[token](float(oper1), float(oper2))\n",
    "            stack.append(result)\n",
    "        else:\n",
    "            stack.append(token)\n",
    "    return stack.pop()\n",
    "            \n",
    "postfix_eval(shunting_yard('2 + (3 / 2)*4'))"
   ]
  }
 ],
 "metadata": {
  "kernelspec": {
   "display_name": "Python 3",
   "language": "python",
   "name": "python3"
  },
  "language_info": {
   "codemirror_mode": {
    "name": "ipython",
    "version": 3
   },
   "file_extension": ".py",
   "mimetype": "text/x-python",
   "name": "python",
   "nbconvert_exporter": "python",
   "pygments_lexer": "ipython3",
   "version": "3.6.8"
  }
 },
 "nbformat": 4,
 "nbformat_minor": 2
}
